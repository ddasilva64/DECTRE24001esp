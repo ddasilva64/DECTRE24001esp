{
  "cells": [
    {
      "cell_type": "markdown",
      "metadata": {
        "id": "AaqohPl7Uv0V"
      },
      "source": [
        "# Project: PROWPI002 (Project World Population Indicators 002)\n",
        "# Process: Foreign Exchange ETL"
      ]
    },
    {
      "cell_type": "markdown",
      "metadata": {
        "id": "iEqfklEQvf5r"
      },
      "source": [
        "## Project libraries"
      ]
    },
    {
      "cell_type": "code",
      "execution_count": 26,
      "metadata": {
        "id": "CzfL1ZJnU4Wf"
      },
      "outputs": [],
      "source": [
        "import pandas   as     pd                     # Pandas\n",
        "from   datetime import datetime, timedelta    # Date & time"
      ]
    },
    {
      "cell_type": "markdown",
      "metadata": {
        "id": "p_2P9xHdgB6y"
      },
      "source": [
        "## Foreign Exchange ETL"
      ]
    },
    {
      "cell_type": "code",
      "execution_count": null,
      "metadata": {
        "colab": {
          "base_uri": "https://localhost:8080/"
        },
        "id": "989vtTiPDNHG",
        "outputId": "020c6457-240f-4dbc-cc63-53ac31f3c73a"
      },
      "outputs": [],
      "source": [
        "# Read source dataset\n",
        "\n",
        "df_exc01 = pd.read_excel('/content/ISS_param.xls','EXCHANGES')    \n",
        "\n",
        "# Get date limits\n",
        "\n",
        "intCont  = 0\n",
        "\n",
        "for row in df_exc01.begin:\n",
        "\tif intCont == 0:\n",
        "\t\tintBY = int(df_exc01.begin.iloc[intCont].strftime(\"%Y\"))\n",
        "\t\tintBM = int(df_exc01.begin.iloc[intCont].strftime(\"%m\"))\n",
        "\t\tintBD= int(df_exc01.begin.iloc[intCont].strftime(\"%d\"))\n",
        "\tintEY = int(df_exc01.end.iloc[intCont].strftime(\"%Y\"))\n",
        "\tintEM = int(df_exc01.end.iloc[intCont].strftime(\"%m\"))\n",
        "\tintED = int(df_exc01.end.iloc[intCont].strftime(\"%d\"))\n",
        "\tintCont += 1\n",
        "\n",
        "begin = datetime(intBY,intBM,intBD)\n",
        "end    = datetime(intEY,intEM,intED)\n",
        "\n",
        "# Build list of dates\n",
        "\n",
        "list_dates = [(begin + timedelta(days=d)).strftime(\"%Y-%m-%d\")\n",
        "\t\t\t\t\t\t\t\t\tfor d in range((end - begin).days + 1)]\n",
        "\n",
        "# Build empty dataframe\n",
        "\n",
        "df_exc02 = pd.DataFrame(list_dates, columns = ['date'])\n",
        "\n",
        "df_exc02['eur'] = ' '\n",
        "df_exc02['cad'] = ' '\n",
        "df_exc02['aud'] = ' '\n",
        "df_exc02['gbp'] = ' '\n",
        "\n",
        "# Build target dataframe\n",
        "\n",
        "df_exc03 = pd.DataFrame(columns=['date', 'eur', 'cad', 'aud', 'gbp'])\n",
        "\n",
        "# Fill in target dataframe\n",
        "\n",
        "intCnt01 = 0\n",
        "intCnt02 = 0\n",
        "strBeg   = \"\"\n",
        "strEnd   = \"\"\n",
        "strEUR   = \"\"\n",
        "strCAD   = \"\"\n",
        "strAUD   = \"\"\n",
        "strGBP   = \"\"\n",
        "strDat01 = \"\"\n",
        "strDat02 = \"\"\n",
        "\n",
        "for intCnt02 in range(0,len(list_dates)):\n",
        "\tstrDat01 = df_exc01.begin.iloc[intCnt01].strftime(\"%Y-%m-%d\")\n",
        "\tstrDat02 = df_exc02.date.iloc[intCnt02]\n",
        "\tif strDat01 == strDat02:\n",
        "\t\tstrBeg = df_exc01.begin.iloc[intCnt01].strftime(\"%Y-%m-%d\")\n",
        "\t\tstrEUR = df_exc01.eur.iloc[intCnt01]\n",
        "\t\tstrCAD = df_exc01.cad.iloc[intCnt01]\n",
        "\t\tstrAUD = df_exc01.aud.iloc[intCnt01]\n",
        "\t\tstrGBP = df_exc01.gbp.iloc[intCnt01]\n",
        "\t\tif intCnt01 < intCont-1:\n",
        "\t\t\tintCnt01 += 1\n",
        "\tdf_exc03 = df_exc03.append({'date': strDat02, 'eur': strEUR, 'cad': strCAD, 'aud': strAUD, 'gbp': strGBP}, ignore_index=True)\n",
        "\n",
        "# Export destiny dataset (.CSV)\n",
        "\n",
        "df_exc03.to_csv('/content/ISS_param.CSV',index=False, sep=';')\n",
        "\n",
        "df_exc03"
      ]
    }
  ],
  "metadata": {
    "colab": {
      "provenance": []
    },
    "kernelspec": {
      "display_name": "Python 3",
      "name": "python3"
    },
    "language_info": {
      "name": "python"
    }
  },
  "nbformat": 4,
  "nbformat_minor": 0
}
