{
  "nbformat": 4,
  "nbformat_minor": 0,
  "metadata": {
    "colab": {
      "provenance": []
    },
    "kernelspec": {
      "name": "python3",
      "display_name": "Python 3"
    },
    "language_info": {
      "name": "python"
    }
  },
  "cells": [
    {
      "cell_type": "markdown",
      "source": [
        "# Project: PROWPI002 (Project World Population Indicators 002)\n",
        "# Process: Forecast ETL"
      ],
      "metadata": {
        "id": "AaqohPl7Uv0V"
      }
    },
    {
      "cell_type": "markdown",
      "source": [
        "## Project libraries"
      ],
      "metadata": {
        "id": "iEqfklEQvf5r"
      }
    },
    {
      "cell_type": "code",
      "source": [
        "import pandas   as     pd                     # Pandas\n",
        "from   datetime import datetime, timedelta    # Date & time"
      ],
      "metadata": {
        "id": "CzfL1ZJnU4Wf"
      },
      "execution_count": 55,
      "outputs": []
    },
    {
      "cell_type": "markdown",
      "source": [
        "## File imports"
      ],
      "metadata": {
        "id": "cgETukp58YLK"
      }
    },
    {
      "cell_type": "code",
      "source": [
        "df_exc01 = pd.read_excel('/content/ISS_param.xls','FORECAST')\n",
        "df_exc02 = pd.read_xml('/content/XML_FactInternetSales.xml')"
      ],
      "metadata": {
        "id": "xrZcrLEn0pvj"
      },
      "execution_count": 56,
      "outputs": []
    },
    {
      "cell_type": "markdown",
      "source": [
        "## Param transforms"
      ],
      "metadata": {
        "id": "N02V15HW8lyg"
      }
    },
    {
      "cell_type": "code",
      "source": [
        "floFct = float(df_exc01.factor)\n",
        "strAco = str(int(df_exc01.accounting))\n",
        "strFor = str(int(df_exc01.forecast))"
      ],
      "metadata": {
        "id": "I_0FZJTu1iEU"
      },
      "execution_count": 57,
      "outputs": []
    },
    {
      "cell_type": "markdown",
      "source": [
        "## Function to transform quantity and amounts\n",
        "## **_Notice_**: Factor has to be an integer because our customer only sells complete bicycles"
      ],
      "metadata": {
        "id": "5ntgCr-I8vB3"
      }
    },
    {
      "cell_type": "code",
      "source": [
        "def ImportQuantity(strOld, floFct):\n",
        "    strNew = strOld.replace(\".\",\"\")\n",
        "    strOld = strNew\n",
        "    strNew = strOld.replace(\",\",\".\")\n",
        "    floNew = float(strNew) * floFct\n",
        "    strN01 = str(floNew).replace(\".\",\",\")\n",
        "    return strN01"
      ],
      "metadata": {
        "id": "hj0NcniAiorL"
      },
      "execution_count": 58,
      "outputs": []
    },
    {
      "cell_type": "code",
      "source": [
        "def YearForecast(strDatOld, strAco):\n",
        "  strDatYY  = strDatOld[6:10]\n",
        "  strDatRst = strDatOld[0:6]\n",
        "  if strAco==strDatYY:\n",
        "    strDatYY = strFor\n",
        "  strDatNew = strDatRst + strDatYY\n",
        "  return strDatNew"
      ],
      "metadata": {
        "id": "0ELZv9lppzIY"
      },
      "execution_count": 59,
      "outputs": []
    },
    {
      "cell_type": "markdown",
      "source": [
        "## Construction of transformed dataframe"
      ],
      "metadata": {
        "id": "potFgWKa-pDe"
      }
    },
    {
      "cell_type": "markdown",
      "source": [],
      "metadata": {
        "id": "WDW6H3p_-74_"
      }
    },
    {
      "cell_type": "code",
      "source": [
        "i = 0\n",
        "\n",
        "for row in df_exc02.FactInternetSalesPK:\n",
        "  df_exc02.OrderQuantity.iloc[i] = ImportQuantity(str(df_exc02.OrderQuantity.iloc[i]), floFct)\n",
        "  df_exc02.ExtendedAmount.iloc[i] = ImportQuantity(str(df_exc02.ExtendedAmount.iloc[i]), floFct)\n",
        "  df_exc02.SalesAmount.iloc[i] = ImportQuantity(str(df_exc02.SalesAmount.iloc[i]), floFct)\n",
        "  df_exc02.OrderDate.iloc[i] = YearForecast(df_exc02.OrderDate.iloc[i], strAco)\n",
        "  df_exc02.ShipDate.iloc[i] = YearForecast(df_exc02.ShipDate.iloc[i], strAco)\n",
        "  df_exc02.DueDate.iloc[i] = YearForecast(df_exc02.DueDate.iloc[i], strAco)\n",
        "  i += 1"
      ],
      "metadata": {
        "id": "fxaQ-Y5N_3xn"
      },
      "execution_count": null,
      "outputs": []
    },
    {
      "cell_type": "code",
      "source": [
        "i = 0\n",
        "\n",
        "for row in df_exc02.FactInternetSalesPK:\n",
        "  strYY = str(df_exc02.FactInternetSalesYear.iloc[i])\n",
        "  if strYY != strAco:\n",
        "    df_exc02.drop(i, axis=0, inplace=True)\n",
        "    df_exc02.reset_index(drop=True, inplace=True)\n",
        "    print(strYY,i)\n",
        "    i=i-1\n",
        "  i += 1"
      ],
      "metadata": {
        "id": "eierL9EtYm0R"
      },
      "execution_count": null,
      "outputs": []
    },
    {
      "cell_type": "code",
      "source": [
        "df_exc02.info()"
      ],
      "metadata": {
        "id": "qdsn4lllkilY"
      },
      "execution_count": null,
      "outputs": []
    },
    {
      "cell_type": "markdown",
      "source": [
        "## Export to CSV to be processed in Pentaho Data Integration"
      ],
      "metadata": {
        "id": "8wApbitw-yUV"
      }
    },
    {
      "cell_type": "code",
      "source": [
        "df_exc02.to_csv('/content/CSV_FactInternetSales.CSV', index=False, sep=';')"
      ],
      "metadata": {
        "id": "8kJJf4m24Qut"
      },
      "execution_count": 64,
      "outputs": []
    }
  ]
}