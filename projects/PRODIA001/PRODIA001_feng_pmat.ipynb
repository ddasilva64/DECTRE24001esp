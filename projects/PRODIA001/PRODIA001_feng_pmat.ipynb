{
  "nbformat": 4,
  "nbformat_minor": 0,
  "metadata": {
    "colab": {
      "provenance": []
    },
    "kernelspec": {
      "name": "python3",
      "display_name": "Python 3"
    },
    "language_info": {
      "name": "python"
    }
  },
  "cells": [
    {
      "cell_type": "markdown",
      "source": [
        "### ***Pearson matrix***"
      ],
      "metadata": {
        "id": "5ghxGwq1c51M"
      }
    },
    {
      "cell_type": "code",
      "source": [
        "stat = ''\n",
        "\n",
        "# Pearson matrix\n",
        "stat = 'Pearson correlation coefficient matrix\\n'\n",
        "print(stat)\n",
        "print(df_diabetes.corr())\n",
        "\n",
        "# Heatmap (Pearson matrix)\n",
        "stat = '\\nInterpretation of the Pearson matrix through a heatmap'\n",
        "print(stat)\n",
        "plt.figure(figsize = (12,10))\n",
        "ax = sns.heatmap(df_diabetes.corr(), annot =True, fmt=\".2f\", linewidth=.5)\n",
        "ax.set(xlabel=\"variables on X axis\", ylabel=\"variables on Y axis\")"
      ],
      "metadata": {
        "id": "pCsRXr2U3aYN"
      },
      "execution_count": null,
      "outputs": []
    }
  ]
}