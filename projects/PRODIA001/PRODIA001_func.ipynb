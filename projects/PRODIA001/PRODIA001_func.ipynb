{
  "nbformat": 4,
  "nbformat_minor": 0,
  "metadata": {
    "colab": {
      "provenance": []
    },
    "kernelspec": {
      "name": "python3",
      "display_name": "Python 3"
    },
    "language_info": {
      "name": "python"
    }
  },
  "cells": [
    {
      "cell_type": "markdown",
      "source": [
        "## ***Python required functions***"
      ],
      "metadata": {
        "id": "XfQ5EHk4GhA3"
      }
    },
    {
      "cell_type": "code",
      "source": [
        "# Total row counter function\n",
        "def funcTotal(df):\n",
        "  return df.count()"
      ],
      "metadata": {
        "id": "U8tlkH4Jy6Nz"
      },
      "execution_count": null,
      "outputs": []
    },
    {
      "cell_type": "code",
      "source": [
        "# Mean function\n",
        "def funcPromedio(df):\n",
        "    return round(df.mean(),2)"
      ],
      "metadata": {
        "id": "ReKx6ncwUgQW"
      },
      "execution_count": null,
      "outputs": []
    },
    {
      "cell_type": "code",
      "source": [
        "# Median function\n",
        "def funcMediana(df):\n",
        "    return round(df.median(),2)"
      ],
      "metadata": {
        "id": "k79hb-nYUimc"
      },
      "execution_count": null,
      "outputs": []
    },
    {
      "cell_type": "code",
      "source": [
        "# Mode function\n",
        "def funcModa(df):\n",
        "    return round(max(df.mode()), 2)"
      ],
      "metadata": {
        "id": "42zIBQSfUekq"
      },
      "execution_count": null,
      "outputs": []
    },
    {
      "cell_type": "code",
      "source": [
        "# Minimum function\n",
        "def funcMin(df):\n",
        "    return round(min(df),2)"
      ],
      "metadata": {
        "id": "JVwTXNfQXgwc"
      },
      "execution_count": null,
      "outputs": []
    },
    {
      "cell_type": "code",
      "source": [
        "# Maximum function\n",
        "def funcMax(df):\n",
        "    return round(max(df),2)"
      ],
      "metadata": {
        "id": "5GZXm5OLXi2A"
      },
      "execution_count": null,
      "outputs": []
    },
    {
      "cell_type": "code",
      "source": [
        "# Range function\n",
        "def funcRango(df):\n",
        "    return round(funcMax(df)-funcMin(df),2)"
      ],
      "metadata": {
        "id": "1zv0vQYnWq95"
      },
      "execution_count": null,
      "outputs": []
    },
    {
      "cell_type": "code",
      "source": [
        "# Upper limit function outliers\n",
        "def funcLimSupOutliers(df):\n",
        "  return round(funcQ3(df) + (1.5 * funcIQR(df)),2)"
      ],
      "metadata": {
        "id": "ErCXmqnXZ2Bi"
      },
      "execution_count": null,
      "outputs": []
    },
    {
      "cell_type": "code",
      "source": [
        "# 1st quartile function (25th percentile)\n",
        "def funcQ1(df):\n",
        "    return round(df.quantile(0.25),2)"
      ],
      "metadata": {
        "id": "DeLxAcIk8PWE"
      },
      "execution_count": null,
      "outputs": []
    },
    {
      "cell_type": "code",
      "source": [
        "# 3rd quartile function (75th percentile)\n",
        "def funcQ3(df):\n",
        "    return round(df.quantile(0.75),2)"
      ],
      "metadata": {
        "id": "9N-Pyl2hEXvR"
      },
      "execution_count": null,
      "outputs": []
    },
    {
      "cell_type": "code",
      "source": [
        "# Interquartile range function\n",
        "def funcIQR(df):\n",
        "    return round(funcQ3(df)-funcQ1(df),2)"
      ],
      "metadata": {
        "id": "HS37OkqkEHof"
      },
      "execution_count": null,
      "outputs": []
    },
    {
      "cell_type": "code",
      "source": [
        "# Lower limit function outliers\n",
        "def funcLimInfOutliers(df):\n",
        "  retorno = 0\n",
        "  inf     = round(funcQ1(df) - (1.5 * funcIQR(df)),2)\n",
        "\n",
        "  if inf >= 0:\n",
        "    retorno = inf\n",
        "\n",
        "  return retorno"
      ],
      "metadata": {
        "id": "mBzCSQQKZ5Z1"
      },
      "execution_count": null,
      "outputs": []
    },
    {
      "cell_type": "code",
      "source": [
        "# Outliers data function\n",
        "def funcOutliers(df):\n",
        "  tota = funcTotal(df)                                  # total row counter\n",
        "  qua1 = funcQ1(df)                                     # quartile 1\n",
        "  qua3 = funcQ3(df)                                     # quartile 3\n",
        "  rirq = funcIQR(df)                                    # interquartile range\n",
        "  sout = funcLimSupOutliers(df)                         # upper limit outliers\n",
        "  iout = funcLimInfOutliers(df)                         # lower limit outliers\n",
        "  nout = 0                                              # number of outliers\n",
        "  pout = 0                                              # % outliers on total rows\n",
        "\n",
        "  list = [(df < iout) | (df > sout)]            # number of outliers\n",
        "  for i in list:\n",
        "    for j in i:\n",
        "      if j==True:\n",
        "        nout+=1\n",
        "\n",
        "  if tota > 0:                                  # % outliers on total rows\n",
        "    pout = round(nout/tota*100,2)\n",
        "\n",
        "  return qua1, qua3, rirq, iout, sout, nout, pout"
      ],
      "metadata": {
        "id": "_yrbzecgOnN0"
      },
      "execution_count": null,
      "outputs": []
    },
    {
      "cell_type": "code",
      "source": [
        "# Zeros in data function\n",
        "def funcCeros(df):\n",
        "  tota = funcTotal(df)                                  # total row counter\n",
        "  ncer = (df == 0).sum()                                # counter 0 values\n",
        "  porc = 0                                              # % 0 values\n",
        "\n",
        "  if tota > 0:                                # % rows with zeros\n",
        "    porc = round(ncer/tota*100,2)\n",
        "\n",
        "  return ncer, porc"
      ],
      "metadata": {
        "id": "rK839YksgXAo"
      },
      "execution_count": null,
      "outputs": []
    },
    {
      "cell_type": "code",
      "source": [
        "# Some statistical functions\n",
        "def funcEstadist(df):\n",
        "  prom = funcPromedio(df)                               # mean\n",
        "  medi = funcMediana(df)                                # median\n",
        "  moda = funcModa(df)                                   # mode\n",
        "  tota = funcTotal(df)                                  # total row counter\n",
        "  sesg = '-'                                            # bias\n",
        "  varc = '-'                                            # variance control\n",
        "  mini = funcMin(df)                                    # minimum\n",
        "  maxi = funcMax(df)                                    # maximum\n",
        "  rang = funcRango(df)                                  # range\n",
        "  dstd = round(df.std(ddof=0),2)                        # standard deviation\n",
        "  vari = round(df.var(),2)                              # variance\n",
        "  ctrv = round(sqrt(df.var()),0)                        # variance control (square root of variance, no decimals)\n",
        "  cdst = round(df.std(ddof=0),0)                        # standard deviation (no decimals)\n",
        "  qua1 = funcQ1(df)                                     # quartile 1\n",
        "  qua2 = round(df.quantile(0.50),2)                     # quartile 2\n",
        "  qua3 = funcQ3(df)                                     # quartile 3\n",
        "  riqr = funcIQR(df)                                    # interquartile range\n",
        "  piqr = 0                                              # % IQR\n",
        "  asim = round(skew(df, axis=0, bias=True),2)           # asymmetry\n",
        "  sasi = '-'                                            # bias (asymmetry)\n",
        "  kurt = round(kurtosis(df, axis=0, bias=True),2)       # kurtosis\n",
        "  dkur = '-'                                            # kurtosis distribution\n",
        "  cero = funcCeros(df)[0]                               # zeroes counter\n",
        "  pcer = funcCeros(df)[1]                               # % zeroes\n",
        "  iout = funcOutliers(df)[3]                            # lower limit outliers\n",
        "  sout = funcOutliers(df)[4]                            # upper limit outliers\n",
        "  nout = funcOutliers(df)[5]                            # number of outliers\n",
        "  pout = funcOutliers(df)[6]                            # % outliers\n",
        "  cvar = 0                                              # Pearson coefficient of variation (dispersion)\n",
        "\n",
        "  if prom == medi and medi == moda:             # bias\n",
        "    sesg = 'centered'\n",
        "  elif moda < medi and medi < prom:\n",
        "    sesg = 'right'\n",
        "  elif moda > medi and medi > prom:\n",
        "    sesg = 'left'\n",
        "\n",
        "  if ctrv == cdst:                              # variance control\n",
        "    varc = 'ok'\n",
        "\n",
        "  if rang > 0:                                  # % IQR\n",
        "    piqr = round(riqr/rang*100,2)\n",
        "\n",
        "  if asim < 0:                                  # bias (asymmetry)\n",
        "    sasi = 'left'\n",
        "  elif asim > 0:\n",
        "    sasi = 'right'\n",
        "  elif asim == 0:\n",
        "    sasi = 'centered'\n",
        "\n",
        "  if kurt > 0:                                  # kurtosis distribution\n",
        "    dkur = 'leptokurtic'                       # indicates that the data distribution is highly concentrated towards the mean (pointed)\n",
        "  elif kurt < 0:\n",
        "    dkur = 'platykurtic'                       # indicates that the data distribution is very dispersed (flattened distribution)\n",
        "  elif kurt == 0:\n",
        "    dkur = 'mesokurtic'                        # indicates that the data distribution has a normal behavior, between the two previous ones\n",
        "\n",
        "  if prom > 0:                                  # Pearson coefficient of variation (dispersion)\n",
        "    cvar = round(dstd/prom,2)\n",
        "\n",
        "  return prom, medi, moda, tota, sesg, mini, maxi, rang, dstd, vari, varc, qua1, qua2, qua3, riqr, piqr, asim, sasi, kurt, dkur, cero, pcer, iout, sout, nout, pout, cvar"
      ],
      "metadata": {
        "id": "JsrBQToaS2q4"
      },
      "execution_count": null,
      "outputs": []
    },
    {
      "cell_type": "code",
      "source": [
        "# Summary of individual variables\n",
        "def funcResumen_Variables(df, valor):\n",
        "  tipo = ' '\n",
        "  cont = 0\n",
        "  cero = 0\n",
        "  noce = 0\n",
        "  porc = 0\n",
        "  impo = valor\n",
        "  moda = funcModa(df)\n",
        "\n",
        "  tipo = str(df.dtype)\n",
        "  cont = funcTotal(df)\n",
        "  cero = funcCeros(df)[0]\n",
        "  noce = cont-cero\n",
        "  if cont>0:\n",
        "    porc = round(noce/cont*100,2)\n",
        "\n",
        "  return tipo, cont, cero, noce, porc, impo, moda"
      ],
      "metadata": {
        "id": "_WyyrawUPNfv"
      },
      "execution_count": null,
      "outputs": []
    },
    {
      "cell_type": "code",
      "source": [
        "# Obesity function (BMI)\n",
        "#   We assess the BMI with the level of thinness and obesity\n",
        "def funcObesidadImc(imc):\n",
        "    retorno = '-'\n",
        "    if imc < 18.5:\n",
        "      retorno = 'thinness'\n",
        "    elif imc <= 24.9:\n",
        "      retorno = 'normal'\n",
        "    elif imc <= 29.9:\n",
        "      retorno = 'overweight'\n",
        "    elif imc <= 34.9:\n",
        "      retorno = 'obesity I'\n",
        "    elif imc <= 39.9:\n",
        "      retorno = 'obesity II'\n",
        "    elif imc >= 40:\n",
        "      retorno = 'morbid obesity'\n",
        "    return retorno"
      ],
      "metadata": {
        "id": "ZoCPC9awQ23E"
      },
      "execution_count": null,
      "outputs": []
    },
    {
      "cell_type": "code",
      "source": [
        "# Function to obtain average without outliers\n",
        "#   bolInf => consider lower limit (1)\n",
        "def funcGetPromNoOutliers(df, bolInf):\n",
        "\n",
        "  qua1 = funcOutliers(df)[0]                            # quartile 1\n",
        "  qua3 = funcOutliers(df)[1]                            # quartile 3\n",
        "  riqr = funcOutliers(df)[2]                            # interquartile range\n",
        "  iout = funcOutliers(df)[3]                            # lower limit outliers\n",
        "  sout = funcOutliers(df)[4]                            # upper limit outliers\n",
        "  nout = 0                                              # non-outliers number\n",
        "  vout = 0                                              # non-outliers value\n",
        "  mout = 0                                              # non-outliers mean\n",
        "\n",
        "  if iout <= 0 | bolInf == 0:                               # lower limit outliers\n",
        "    iout = 0\n",
        "\n",
        "  nout = df[(df >= iout) & (df <= sout) ].count()           # non-outliers number\n",
        "  vout = round(df[(df >= iout) & (df <= sout) ].sum(),2)    # non-outliers value\n",
        "  mout = round(df[(df >= iout) & (df <= sout) ].mean(),2)   # non-outliers mean\n",
        "\n",
        "  return vout, nout, mout"
      ],
      "metadata": {
        "id": "Sya65bph8gyE"
      },
      "execution_count": null,
      "outputs": []
    },
    {
      "cell_type": "code",
      "source": [
        "# Imputation function\n",
        "#   We will get the set of non-outliers\n",
        "#   We will get the average of the non-outliers\n",
        "#   We will replace the outliers by the average obtained\n",
        "def funcImputacion(df, bolInf):\n",
        "  qua1 = funcOutliers(df)[0]                            # quartile 1\n",
        "  qua3 = funcOutliers(df)[1]                            # quartile 3\n",
        "  rirq = funcOutliers(df)[2]                            # interquartile range\n",
        "  sout = funcOutliers(df)[3]                            # upper limit outliers\n",
        "  iout = funcOutliers(df)[4]                            # lower limit outliers\n",
        "\n",
        "  cer1 = funcCeros(df)[0]                               # zeroes counter\n",
        "  pce1 = funcCeros(df)[1]                               # % zeroes\n",
        "\n",
        "  qua1 = funcOutliers(df)[0]                            # quartile 1\n",
        "  qua3 = funcOutliers(df)[1]                            # quartile 3\n",
        "  riqr = funcOutliers(df)[2]                            # interquartile range\n",
        "  iout = funcOutliers(df)[3]                            # upper limit outliers\n",
        "  sout = funcOutliers(df)[4]                            # lower limit outliers\n",
        "  nou1 = funcOutliers(df)[5]                            # zeroes number\n",
        "  pou1 = funcOutliers(df)[6]                            # % outliers\n",
        "\n",
        "  # update outliers\n",
        "  df[(df < iout) | (df > sout) ] = funcGetPromNoOutliers(df, bolInf)[2]\n",
        "\n",
        "  cer2 = funcCeros(df)[0]                               # zeroes counter\n",
        "  pce2 = funcCeros(df)[1]                               # % zeroes\n",
        "\n",
        "  qua1 = funcOutliers(df)[0]                            # quartile 1\n",
        "  qua3 = funcOutliers(df)[1]                            # quartile 3\n",
        "  riqr = funcOutliers(df)[2]                            # interquartile range\n",
        "  iout = funcOutliers(df)[3]                            # upper limit outliers\n",
        "  sout = funcOutliers(df)[4]                            # lower limit outliers\n",
        "  nou2 = funcOutliers(df)[5]                            # zeroes number\n",
        "  pou2 = funcOutliers(df)[6]                            # % outliers\n",
        "\n",
        "  return cer1, pce1, nou1, pou1, cer2, pce2, nou2, pou2"
      ],
      "metadata": {
        "id": "52AdGNTX9e1E"
      },
      "execution_count": null,
      "outputs": []
    }
  ]
}