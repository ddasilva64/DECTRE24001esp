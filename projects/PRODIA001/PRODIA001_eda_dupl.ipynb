{
  "nbformat": 4,
  "nbformat_minor": 0,
  "metadata": {
    "colab": {
      "provenance": []
    },
    "kernelspec": {
      "name": "python3",
      "display_name": "Python 3"
    },
    "language_info": {
      "name": "python"
    }
  },
  "cells": [
    {
      "cell_type": "markdown",
      "source": [
        "### ***Duplicate value management techniques***"
      ],
      "metadata": {
        "id": "UAMQ6iAfxWUl"
      }
    },
    {
      "cell_type": "code",
      "source": [
        "# Checking for duplicate values\n",
        "duplicate_values = df_diabetes.duplicated().sum()\n",
        "\n",
        "if duplicate_values == 0:\n",
        "    print(f'There are no duplicates, so they do not need to be removed')\n",
        "else:\n",
        "    print(f'The df contains {duplicate_values} duplicate values')\n",
        "    print('Removing duplicates')\n",
        "    df_diabetes.drop_duplicates(inplace=True)\n",
        "\n",
        "duplicate_values"
      ],
      "metadata": {
        "id": "alEaw4oixnOK"
      },
      "execution_count": null,
      "outputs": []
    }
  ]
}