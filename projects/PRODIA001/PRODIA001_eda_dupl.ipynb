{
  "nbformat": 4,
  "nbformat_minor": 0,
  "metadata": {
    "colab": {
      "provenance": []
    },
    "kernelspec": {
      "name": "python3",
      "display_name": "Python 3"
    },
    "language_info": {
      "name": "python"
    }
  },
  "cells": [
    {
      "cell_type": "markdown",
      "source": [
        "### ***Duplicate value management***"
      ],
      "metadata": {
        "id": "UAMQ6iAfxWUl"
      }
    },
    {
      "cell_type": "code",
      "source": [
        "# Checking for duplicate values\n",
        "\n",
        "stat = ''\n",
        "\n",
        "duplicate_values = df_diabetes.duplicated().sum()\n",
        "\n",
        "if duplicate_values == 0:\n",
        "    stat = 'There are no duplicates, so they do not need to be removed'\n",
        "else:\n",
        "    stat = 'The df contains ' + str(duplicate_values) + ' duplicate values'\n",
        "    stat = 'Removing duplicates'\n",
        "    df_diabetes.drop_duplicates(inplace=True)\n",
        "\n",
        "# Status message\n",
        "print(stat)"
      ],
      "metadata": {
        "id": "alEaw4oixnOK"
      },
      "execution_count": null,
      "outputs": []
    }
  ]
}