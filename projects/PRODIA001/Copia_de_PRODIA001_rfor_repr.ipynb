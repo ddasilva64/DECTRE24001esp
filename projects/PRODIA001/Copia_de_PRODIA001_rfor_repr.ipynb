{
  "nbformat": 4,
  "nbformat_minor": 0,
  "metadata": {
    "colab": {
      "provenance": []
    },
    "kernelspec": {
      "name": "python3",
      "display_name": "Python 3"
    },
    "language_info": {
      "name": "python"
    }
  },
  "cells": [
    {
      "cell_type": "markdown",
      "source": [
        "## ***Random Forest representation***"
      ],
      "metadata": {
        "id": "KSig-ihlHVPn"
      }
    },
    {
      "cell_type": "code",
      "source": [
        "stat = ''\n",
        "\n",
        "# Classification report\n",
        "print(\"Informe de clasificación (métricas)\\n\",classification_report(y_test_diabetes, y_test_pred_diabetes))\n",
        "\n",
        "# Status message\n",
        "stat = 'Random Forest representation, done'\n",
        "print(stat)"
      ],
      "metadata": {
        "id": "eSVC8O4DxrXT"
      },
      "execution_count": null,
      "outputs": []
    }
  ]
}