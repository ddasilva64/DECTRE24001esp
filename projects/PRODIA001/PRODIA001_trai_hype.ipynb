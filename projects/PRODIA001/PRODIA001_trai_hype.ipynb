{
  "nbformat": 4,
  "nbformat_minor": 0,
  "metadata": {
    "colab": {
      "provenance": []
    },
    "kernelspec": {
      "name": "python3",
      "display_name": "Python 3"
    },
    "language_info": {
      "name": "python"
    }
  },
  "cells": [
    {
      "cell_type": "markdown",
      "source": [
        "## ***Training (hyperparameter optimization)***"
      ],
      "metadata": {
        "id": "KSig-ihlHVPn"
      }
    },
    {
      "cell_type": "code",
      "source": [
        "stat = ''\n",
        "\n",
        "# Fitting hyperparameters\n",
        "rf1 = RandomForestClassifier(max_depth=3, n_estimators=100, random_state=0)\n",
        "rf1.fit(X_train_diabetes, y_train_diabetes)\n",
        "\n",
        "# Model instance\n",
        "rfc_diabetes = RandomForestClassifier(random_state=42)\n",
        "\n",
        "# Hyperparameter definition\n",
        "param_grid = {\n",
        "    'n_estimators'     : [10,25,50],\n",
        "    'max_depth'        : [5,10,15],\n",
        "    'criterion'        : ['mse', 'mae', 'gini', 'entropy', 'log_loss'],\n",
        "    'min_samples_split': [2,4,6],\n",
        "    'min_samples_leaf' : [1,2,4],\n",
        "             }\n",
        "\n",
        "# Create the GridSearchCV object (cross-validation)\n",
        "grid_search = GridSearchCV(estimator=rfc_diabetes, param_grid=param_grid, cv=5, scoring='accuracy')\n",
        "\n",
        "# Model fitting with GridSearchCV\n",
        "grid_search.fit(X_train_diabetes, y_train_diabetes)\n",
        "\n",
        "# Get the best performing model\n",
        "best_model_diabetes = grid_search.best_estimator_\n",
        "\n",
        "# Best model hyperparameters\n",
        "grid_search.best_params_\n",
        "\n",
        "stat = 'accuracy on training dataset : ' + str(round(rf1.score(X_train_diabetes, y_train_diabetes),3)) + \\\n",
        "       '\\naccuracy on test dataset     : ' + str(round(rf1.score(X_test_diabetes, y_test_diabetes),3)) + \\\n",
        "       '\\nbest performing model        : ' + str(best_model_diabetes) + \\\n",
        "       '\\nbest model hyperparameters   : ' + str(grid_search.best_params_)\n",
        "\n",
        "# Status message\n",
        "print(stat)"
      ],
      "metadata": {
        "id": "eSVC8O4DxrXT"
      },
      "execution_count": null,
      "outputs": []
    }
  ]
}