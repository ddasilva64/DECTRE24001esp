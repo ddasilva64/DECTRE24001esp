{
  "nbformat": 4,
  "nbformat_minor": 0,
  "metadata": {
    "colab": {
      "provenance": []
    },
    "kernelspec": {
      "name": "python3",
      "display_name": "Python 3"
    },
    "language_info": {
      "name": "python"
    }
  },
  "cells": [
    {
      "cell_type": "markdown",
      "source": [
        "## ***Data model preprocessing (column format)***"
      ],
      "metadata": {
        "id": "2YtI90ByVcvB"
      }
    },
    {
      "cell_type": "code",
      "source": [
        "stat = ''\n",
        "\n",
        "# Array of column names\n",
        "df_columns = np.array(['pregnancies', 'glucose', 'pressure', 'bmi', 'pedigree', 'age', 'diabetes'])\n",
        "\n",
        "# Assigning the array of column names\n",
        "df_transformado.columns = df_columns\n",
        "\n",
        "# Status message\n",
        "stat = 'Formatted dataset columns to:\\n\\n' + \\\n",
        "       str(df_transformado.columns) + \\\n",
        "       '\\n\\nTo check the result, go to df_transformado dataframe, please'\n",
        "print(stat)"
      ],
      "metadata": {
        "id": "PsyIH_ULQBHN"
      },
      "execution_count": null,
      "outputs": []
    }
  ]
}