{
  "nbformat": 4,
  "nbformat_minor": 0,
  "metadata": {
    "colab": {
      "provenance": []
    },
    "kernelspec": {
      "name": "python3",
      "display_name": "Python 3"
    },
    "language_info": {
      "name": "python"
    }
  },
  "cells": [
    {
      "cell_type": "markdown",
      "source": [
        "### ***Feature Engineering.Target variable exploration***"
      ],
      "metadata": {
        "id": "5ghxGwq1c51M"
      }
    },
    {
      "cell_type": "code",
      "source": [
        "stat = ''\n",
        "\n",
        "# Target variable ratio\n",
        "plt.figure(figsize=(7,7))\n",
        "\n",
        "labels,counts = np.unique(df_diabetes.diabetes, return_counts=True)\n",
        "explode = (0, 0.1)\n",
        "plt.pie(counts, autopct='%1.2f%%', explode=explode, colors=['olivedrab', 'red'], shadow=True, startangle=30)\n",
        "plt.title('Diabetes ratio')\n",
        "plt.legend({'0 - negative','1 - positive'})\n",
        "\n",
        "plt.show()\n",
        "\n",
        "# Status message\n",
        "stat = 'Pie of target variable, done.\\nDisplay df_diabetes.diabetes.value_counts() to see absolute values, please.'\n",
        "print(stat)"
      ],
      "metadata": {
        "id": "pCsRXr2U3aYN"
      },
      "execution_count": null,
      "outputs": []
    }
  ]
}