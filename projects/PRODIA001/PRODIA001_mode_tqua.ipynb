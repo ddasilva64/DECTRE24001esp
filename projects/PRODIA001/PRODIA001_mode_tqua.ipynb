{
  "nbformat": 4,
  "nbformat_minor": 0,
  "metadata": {
    "colab": {
      "provenance": []
    },
    "kernelspec": {
      "name": "python3",
      "display_name": "Python 3"
    },
    "language_info": {
      "name": "python"
    }
  },
  "cells": [
    {
      "cell_type": "markdown",
      "source": [
        "### ***Modeling (transform the data into quantiles)***"
      ],
      "metadata": {
        "id": "KSig-ihlHVPn"
      }
    },
    {
      "cell_type": "code",
      "source": [
        "stat = ''\n",
        "\n",
        "# Before splitting the dataset, we need to transform the data into quantiles\n",
        "\n",
        "q  = QuantileTransformer()\n",
        "X = q.fit_transform(df_diabetes)\n",
        "\n",
        "df_transformado = q.transform(X)\n",
        "df_transformado = pd.DataFrame(X)\n",
        "\n",
        "# Status message\n",
        "stat = 'To check the result, go to df_transformado dataframe, please'\n",
        "print(stat)"
      ],
      "metadata": {
        "id": "eSVC8O4DxrXT"
      },
      "execution_count": null,
      "outputs": []
    }
  ]
}