{
  "nbformat": 4,
  "nbformat_minor": 0,
  "metadata": {
    "colab": {
      "provenance": []
    },
    "kernelspec": {
      "name": "python3",
      "display_name": "Python 3"
    },
    "language_info": {
      "name": "python"
    }
  },
  "cells": [
    {
      "cell_type": "markdown",
      "source": [
        "### ***Feature Engineering (outliers imputation)***"
      ],
      "metadata": {
        "id": "5ghxGwq1c51M"
      }
    },
    {
      "cell_type": "code",
      "source": [
        "stat = ''\n",
        "\n",
        "# Outliers imputation\n",
        "df_emb  = funcImputacion(df_diabetes['pregnancies']   , 0)\n",
        "df_glu  = funcImputacion(df_diabetes['glucose']     , 1)\n",
        "df_pre  = funcImputacion(df_diabetes['pressure']     , 1)\n",
        "df_imc  = funcImputacion(df_diabetes['bmi']         , 1)\n",
        "df_ant  = funcImputacion(df_diabetes['pedigree'], 0)\n",
        "\n",
        "df_imputado = {\n",
        "'zeroes (before)':          [df_emb[0], df_glu[0], df_pre[0], df_imc[0], df_ant[0]],\n",
        "'% zeroes (before)':        [df_emb[1], df_glu[1], df_pre[1], df_imc[1], df_ant[1]],\n",
        "'outliers (before)':        [df_emb[2], df_glu[2], df_pre[2], df_imc[2], df_ant[2]],\n",
        "'% outliers (before)':      [df_emb[3], df_glu[3], df_pre[3], df_imc[3], df_ant[3]],\n",
        "'zeroes (imputed)':         [df_emb[4], df_glu[4], df_pre[4], df_imc[4], df_ant[4]],\n",
        "'% zeroes (imputed)':       [df_emb[5], df_glu[5], df_pre[5], df_imc[5], df_ant[5]],\n",
        "'outliers (imputed)':       [df_emb[6], df_glu[6], df_pre[6], df_imc[6], df_ant[6]],\n",
        "'% outliers (imputed)':     [df_emb[7], df_glu[7], df_pre[7], df_imc[7], df_ant[7]]\n",
        "              }\n",
        "\n",
        "indexes = ['pregnancies', 'glucose', 'pressure', 'bmi', 'pedigree']\n",
        "columns = ['zeroes (before)',   '% zeroes (before)', 'outliers (before)',  '% outliers (before)',\n",
        "           'zeroes (imputed)', '% zeroes (imputed)', 'outliers (imputed)', '% outliers (imputed)']\n",
        "\n",
        "df_imputado = pd.DataFrame(data=df_imputado, index=indexes, columns=columns, dtype=str)\n",
        "df_imputado = df_imputado.transpose()\n",
        "\n",
        "# Status message\n",
        "stat = 'To check the result, go to df_imputado dataframe, please'\n",
        "print(stat)"
      ],
      "metadata": {
        "id": "pCsRXr2U3aYN"
      },
      "execution_count": null,
      "outputs": []
    }
  ]
}