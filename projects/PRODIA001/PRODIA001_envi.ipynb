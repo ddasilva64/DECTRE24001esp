{
  "nbformat": 4,
  "nbformat_minor": 0,
  "metadata": {
    "colab": {
      "provenance": []
    },
    "kernelspec": {
      "name": "python3",
      "display_name": "Python 3"
    },
    "language_info": {
      "name": "python"
    }
  },
  "cells": [
    {
      "cell_type": "markdown",
      "source": [
        "## ***Setting up the environment and libraries***"
      ],
      "metadata": {
        "id": "vlulJ2HQ7BuW"
      }
    },
    {
      "cell_type": "code",
      "source": [
        "# Ignore warnings\n",
        "filterwarnings('ignore')\n",
        "\n",
        "# Enable chart display in the notebook\n",
        "%matplotlib inline\n",
        "\n",
        "# Define style and context of seaborn\n",
        "sns.set(style='whitegrid', context='notebook')\n",
        "\n",
        "# Setting up libraries\n",
        "plt.style.use(\"fivethirtyeight\")                                        # plot style\n",
        "sns.set(rc={\"figure.figsize\":(10, 10)})                                 # figures size\n",
        "\n",
        "# Delete and format Google Colab\n",
        "clear_output()\n",
        "print()\n",
        "collect()"
      ],
      "metadata": {
        "colab": {
          "base_uri": "https://localhost:8080/"
        },
        "id": "g8jDZGD-U4ik",
        "outputId": "589d8a21-a7fc-4adb-d922-4f064bcec5d6"
      },
      "execution_count": null,
      "outputs": [
        {
          "output_type": "stream",
          "name": "stdout",
          "text": [
            "\n"
          ]
        },
        {
          "output_type": "execute_result",
          "data": {
            "text/plain": [
              "4"
            ]
          },
          "metadata": {},
          "execution_count": 4
        }
      ]
    }
  ]
}