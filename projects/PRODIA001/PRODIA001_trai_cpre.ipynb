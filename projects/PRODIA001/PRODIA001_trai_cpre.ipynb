{
  "nbformat": 4,
  "nbformat_minor": 0,
  "metadata": {
    "colab": {
      "provenance": []
    },
    "kernelspec": {
      "name": "python3",
      "display_name": "Python 3"
    },
    "language_info": {
      "name": "python"
    }
  },
  "cells": [
    {
      "cell_type": "markdown",
      "source": [
        "### ***Calculate predictions in training and testing***"
      ],
      "metadata": {
        "id": "KSig-ihlHVPn"
      }
    },
    {
      "cell_type": "code",
      "source": [
        "stat = ''\n",
        "\n",
        "# Calculate predictions in training and testing\n",
        "y_train_pred_diabetes = rf1.predict(X_train_diabetes)\n",
        "y_test_pred_diabetes  = rf1.predict(X_test_diabetes)\n",
        "\n",
        "# Status message\n",
        "stat = 'Calculating predictions in training and testing, done'\n",
        "print(stat)"
      ],
      "metadata": {
        "id": "eSVC8O4DxrXT"
      },
      "execution_count": null,
      "outputs": []
    }
  ]
}