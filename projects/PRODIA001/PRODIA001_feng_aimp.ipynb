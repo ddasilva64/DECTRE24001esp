{
  "nbformat": 4,
  "nbformat_minor": 0,
  "metadata": {
    "colab": {
      "provenance": []
    },
    "kernelspec": {
      "name": "python3",
      "display_name": "Python 3"
    },
    "language_info": {
      "name": "python"
    }
  },
  "cells": [
    {
      "cell_type": "markdown",
      "source": [
        "### ***Feature Engineering (Statistical data function -after imputation of outliers-)***"
      ],
      "metadata": {
        "id": "5ghxGwq1c51M"
      }
    },
    {
      "cell_type": "code",
      "source": [
        "stat = ''\n",
        "\n",
        "# Statistical data function (after imputation of outliers)\n",
        "dt_emb  = funcEstadist(df_diabetes['pregnancies'])\n",
        "dt_glu  = funcEstadist(df_diabetes['glucose'])\n",
        "dt_pre  = funcEstadist(df_diabetes['pressure'])\n",
        "dt_imc  = funcEstadist(df_diabetes['bmi'])\n",
        "dt_ant  = funcEstadist(df_diabetes['pedigree'])\n",
        "dt_eda  = funcEstadist(df_diabetes['age'])\n",
        "dt_dia  = funcEstadist(df_diabetes['diabetes'])\n",
        "\n",
        "df_estad =  {\n",
        "'mean':                     [dt_emb[0], dt_glu[0], dt_pre[0], dt_imc[0], dt_ant[0], dt_eda[0], dt_dia[0]],\n",
        "'median':                   [dt_emb[1], dt_glu[1], dt_pre[1], dt_imc[1], dt_ant[1], dt_eda[1], dt_dia[1]],\n",
        "'mode':                     [dt_emb[2], dt_glu[2], dt_pre[2], dt_imc[2], dt_ant[2], dt_eda[2], dt_dia[2]],\n",
        "'total no. rows':           [dt_emb[3], dt_glu[3], dt_pre[3], dt_imc[3], dt_ant[3], dt_eda[3], dt_dia[3]],\n",
        "'bias (central tendency)':  [dt_emb[4], dt_glu[4], dt_pre[4], dt_imc[4], dt_ant[4], dt_eda[4], dt_dia[4]],\n",
        "'minimum':                  [dt_emb[5], dt_glu[5], dt_pre[5], dt_imc[5], dt_ant[5], dt_eda[5], dt_dia[5]],\n",
        "'maximum':                  [dt_emb[6], dt_glu[6], dt_pre[6], dt_imc[6], dt_ant[6], dt_eda[6], dt_dia[6]],\n",
        "'range':                    [dt_emb[7], dt_glu[7], dt_pre[7], dt_imc[7], dt_ant[7], dt_eda[7], dt_dia[7]],\n",
        "'standard deviation':       [dt_emb[8], dt_glu[8], dt_pre[8], dt_imc[8], dt_ant[8], dt_eda[8], dt_dia[8]],\n",
        "'variance':                 [dt_emb[9], dt_glu[9], dt_pre[9], dt_imc[9], dt_ant[9], dt_eda[9], dt_dia[9]],\n",
        "'variance control':         [dt_emb[10], dt_glu[10], dt_pre[10], dt_imc[10], dt_ant[10], dt_eda[10], dt_dia[10]],\n",
        "'quartile 1':               [dt_emb[11], dt_glu[11], dt_pre[11], dt_imc[11], dt_ant[11], dt_eda[11], dt_dia[11]],\n",
        "'quartile 2':               [dt_emb[12], dt_glu[12], dt_pre[12], dt_imc[12], dt_ant[12], dt_eda[12], dt_dia[12]],\n",
        "'quartile 3':               [dt_emb[13], dt_glu[13], dt_pre[13], dt_imc[13], dt_ant[13], dt_eda[13], dt_dia[13]],\n",
        "'IQR':                      [dt_emb[14], dt_glu[14], dt_pre[14], dt_imc[14], dt_ant[14], dt_eda[14], dt_dia[14]],\n",
        "'% IQR':                    [dt_emb[15], dt_glu[15], dt_pre[15], dt_imc[15], dt_ant[15], dt_eda[15], dt_dia[15]],\n",
        "'asymmetry':                [dt_emb[16], dt_glu[16], dt_pre[16], dt_imc[16], dt_ant[16], dt_eda[16], dt_dia[16]],\n",
        "'bias (asymmetry)':         [dt_emb[17], dt_glu[17], dt_pre[17], dt_imc[17], dt_ant[17], dt_eda[17], dt_dia[17]],\n",
        "'kurtosis':                 [dt_emb[18], dt_glu[18], dt_pre[18], dt_imc[18], dt_ant[18], dt_eda[18], dt_dia[18]],\n",
        "'kurtosis distribution':    [dt_emb[19], dt_glu[19], dt_pre[19], dt_imc[19], dt_ant[19], dt_eda[19], dt_dia[19]],\n",
        "'no. of rows with zeroes':  [dt_emb[20], dt_glu[20], dt_pre[20], dt_imc[20], dt_ant[20], dt_eda[20], dt_dia[20]],\n",
        "'% rows with zeroes':       [dt_emb[21], dt_glu[21], dt_pre[21], dt_imc[21], dt_ant[21], dt_eda[21], dt_dia[21]],\n",
        "'lower limit outliers':     [dt_emb[22], dt_glu[22], dt_pre[22], dt_imc[22], dt_ant[22], dt_eda[22], dt_dia[22]],\n",
        "'upper limit outliers':     [dt_emb[23], dt_glu[23], dt_pre[23], dt_imc[23], dt_ant[23], dt_eda[23], dt_dia[23]],\n",
        "'outliers number':          [dt_emb[24], dt_glu[24], dt_pre[24], dt_imc[24], dt_ant[24], dt_eda[24], dt_dia[24]],\n",
        "'% outliers':               [dt_emb[25], dt_glu[25], dt_pre[25], dt_imc[25], dt_ant[25], dt_eda[25], dt_dia[25]],\n",
        "'dispersion coefficient':   [dt_emb[26], dt_glu[26], dt_pre[26], dt_imc[26], dt_ant[26], dt_eda[26], dt_dia[26]]\n",
        "            }\n",
        "\n",
        "indexes = ['pregnancies', 'glucose', 'pressure', 'bmi', 'pedigree', 'age', 'diabetes']\n",
        "columns = ['mean', 'median', 'mode', 'total no. rows', 'no. of rows with zeroes', '% rows with zeroes',\n",
        "           'lower limit outliers', 'upper limit outliers', 'outliers number', '% outliers',\n",
        "           'minimum', 'maximum', 'range',\n",
        "           'standard deviation', 'dispersion coefficient',\n",
        "           'variance', 'variance control', 'quartile 1', 'quartile 2', 'quartile 3', 'IQR', '% IQR',\n",
        "           'asymmetry', 'bias (central tendency)', 'bias (asymmetry)', 'kurtosis', 'kurtosis distribution']\n",
        "\n",
        "df_estad = pd.DataFrame(data=df_estad, index=indexes, columns=columns, dtype=str)\n",
        "df_estad = df_estad.transpose()\n",
        "\n",
        "# Status message\n",
        "stat = 'To check the result, go to df_estad dataframe, please'\n",
        "print(stat)"
      ],
      "metadata": {
        "id": "pCsRXr2U3aYN"
      },
      "execution_count": null,
      "outputs": []
    }
  ]
}