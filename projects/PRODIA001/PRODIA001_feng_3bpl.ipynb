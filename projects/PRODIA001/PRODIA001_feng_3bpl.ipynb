{
  "nbformat": 4,
  "nbformat_minor": 0,
  "metadata": {
    "colab": {
      "provenance": []
    },
    "kernelspec": {
      "name": "python3",
      "display_name": "Python 3"
    },
    "language_info": {
      "name": "python"
    }
  },
  "cells": [
    {
      "cell_type": "markdown",
      "source": [
        "## ***Case 3 (pressure-diabetes)***"
      ],
      "metadata": {
        "id": "5ghxGwq1c51M"
      }
    },
    {
      "cell_type": "code",
      "source": [
        "stat = ''\n",
        "\n",
        "# Graphs of combination 03: pressure-diabetes\n",
        "\n",
        "plt.style.use(\"default\")\n",
        "plt.figure(figsize=(45,5))\n",
        "sns.barplot(x=\"pressure\", y=\"diabetes\", data=df_diabetes, color='grey')\n",
        "plt.title(\"pressure vs diabetes\",fontsize=15)\n",
        "plt.xlabel(\"pressure\")\n",
        "plt.ylabel(\"diabetes\")\n",
        "plt.show()\n",
        "\n",
        "# Status message\n",
        "stat = 'Barplot of case 3 (pressure-diabetes), done'\n",
        "print(stat)"
      ],
      "metadata": {
        "id": "pCsRXr2U3aYN"
      },
      "execution_count": null,
      "outputs": []
    }
  ]
}