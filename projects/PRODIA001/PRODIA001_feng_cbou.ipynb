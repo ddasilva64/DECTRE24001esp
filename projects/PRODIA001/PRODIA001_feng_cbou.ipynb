{
  "nbformat": 4,
  "nbformat_minor": 0,
  "metadata": {
    "colab": {
      "provenance": []
    },
    "kernelspec": {
      "name": "python3",
      "display_name": "Python 3"
    },
    "language_info": {
      "name": "python"
    }
  },
  "cells": [
    {
      "cell_type": "markdown",
      "source": [
        "### ***Feature Engineering (count the rows that remain, without zeroes)***"
      ],
      "metadata": {
        "id": "5ghxGwq1c51M"
      }
    },
    {
      "cell_type": "code",
      "source": [
        "stat = ''\n",
        "\n",
        "# Count the rows that remain, without zeroes\n",
        "df_NoCeros = df_diabetes.drop(\n",
        "                              df_diabetes[\n",
        "                             (df_diabetes['glucose'] == 0)\n",
        "                           | (df_diabetes['pressure'] == 0)\n",
        "                           | (df_diabetes['skinfold'] == 0)\n",
        "                           | (df_diabetes['insulin'] == 0)\n",
        "                           | (df_diabetes['bmi'] == 0)\n",
        "                              ].index)\n",
        "\n",
        "noCeros = df_NoCeros['pregnancies'].count()\n",
        "total   = df_diabetes['pregnancies'].count()\n",
        "\n",
        "# Status message\n",
        "stat = 'Total rows not cleaned: ' + str(total) + '\\nClean rows            : ' + str(noCeros) + '\\n% rows after cleaning : ' + str(round(noCeros/total*100,2))+'%'\n",
        "print(stat)"
      ],
      "metadata": {
        "id": "pCsRXr2U3aYN"
      },
      "execution_count": null,
      "outputs": []
    }
  ]
}