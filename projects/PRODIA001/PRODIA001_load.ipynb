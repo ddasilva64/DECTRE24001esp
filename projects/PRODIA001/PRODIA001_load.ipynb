{
  "nbformat": 4,
  "nbformat_minor": 0,
  "metadata": {
    "colab": {
      "provenance": []
    },
    "kernelspec": {
      "name": "python3",
      "display_name": "Python 3"
    },
    "language_info": {
      "name": "python"
    }
  },
  "cells": [
    {
      "cell_type": "markdown",
      "source": [
        "## ***Load dataset***"
      ],
      "metadata": {
        "id": "3_bxCSrkMcQx"
      }
    },
    {
      "cell_type": "code",
      "source": [
        "try:\n",
        "    # Load dataset\n",
        "    path = '/content/drive/MyDrive/Colab Notebooks/datos/pima-indians-diabetes.csv'\n",
        "    df_diabetes = pd.read_csv(path, header=None, sep=',')\n",
        "    print('Loaded dataset')\n",
        "\n",
        "except FileNotFoundError:\n",
        "    # Exception if file does not exist in path\n",
        "    print('Error: File not found. Check path')\n",
        "\n",
        "except Exception as e:\n",
        "    # Other exceptions\n",
        "    print('There was an error loading the dataset:', e)"
      ],
      "metadata": {
        "id": "95GEEQ3nORbG"
      },
      "execution_count": null,
      "outputs": []
    }
  ]
}