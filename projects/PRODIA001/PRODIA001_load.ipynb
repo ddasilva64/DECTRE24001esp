{
  "nbformat": 4,
  "nbformat_minor": 0,
  "metadata": {
    "colab": {
      "provenance": []
    },
    "kernelspec": {
      "name": "python3",
      "display_name": "Python 3"
    },
    "language_info": {
      "name": "python"
    }
  },
  "cells": [
    {
      "cell_type": "markdown",
      "source": [
        "## ***Load dataset***"
      ],
      "metadata": {
        "id": "3_bxCSrkMcQx"
      }
    },
    {
      "cell_type": "code",
      "source": [
        "try:\n",
        "    # Load dataset\n",
        "    path = '/content/drive/MyDrive/Colab Notebooks/datos/pima-indians-diabetes.csv'\n",
        "    df_diabetes = pd.read_csv(path, header=None, sep=',')\n",
        "    print('Loaded dataset')\n",
        "\n",
        "except FileNotFoundError:\n",
        "    # Exception if file does not exist in path\n",
        "    print('Error: File not found. Check path')\n",
        "\n",
        "except Exception as e:\n",
        "    # Other exceptions\n",
        "    print('There was an error loading the dataset:', e)"
      ],
      "metadata": {
        "colab": {
          "base_uri": "https://localhost:8080/"
        },
        "id": "95GEEQ3nORbG",
        "outputId": "2970b35b-fd15-47f3-c711-40e338cb7bc5"
      },
      "execution_count": 3,
      "outputs": [
        {
          "output_type": "stream",
          "name": "stdout",
          "text": [
            "There was an error loading the dataset: name 'pd' is not defined\n"
          ]
        }
      ]
    }
  ]
}