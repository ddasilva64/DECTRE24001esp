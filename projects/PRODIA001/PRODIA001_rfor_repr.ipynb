{
  "nbformat": 4,
  "nbformat_minor": 0,
  "metadata": {
    "colab": {
      "provenance": []
    },
    "kernelspec": {
      "name": "python3",
      "display_name": "Python 3"
    },
    "language_info": {
      "name": "python"
    }
  },
  "cells": [
    {
      "cell_type": "markdown",
      "source": [
        "## ***Random Forest representation***"
      ],
      "metadata": {
        "id": "KSig-ihlHVPn"
      }
    },
    {
      "cell_type": "code",
      "source": [
        "stat = ''\n",
        "\n",
        "plt.figure(figsize=(30, 30))\n",
        "\n",
        "# Get a random tree from the Random Forest\n",
        "tree_index = 0                                        # Index of the desired tree\n",
        "Tree = rf1.estimators_[tree_index]\n",
        "\n",
        "# Visualize the tree\n",
        "tree.plot_tree(Tree, feature_names=X_train_diabetes.columns, filled=True)\n",
        "plt.show()\n",
        "\n",
        "# Status message\n",
        "stat = 'Random Forest representation, done'\n",
        "print(stat)"
      ],
      "metadata": {
        "id": "eSVC8O4DxrXT"
      },
      "execution_count": null,
      "outputs": []
    }
  ]
}