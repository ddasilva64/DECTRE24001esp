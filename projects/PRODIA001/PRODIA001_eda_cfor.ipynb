{
  "nbformat": 4,
  "nbformat_minor": 0,
  "metadata": {
    "colab": {
      "provenance": []
    },
    "kernelspec": {
      "name": "python3",
      "display_name": "Python 3"
    },
    "language_info": {
      "name": "python"
    }
  },
  "cells": [
    {
      "cell_type": "markdown",
      "source": [
        "### ***Data preprocessing (column format)***"
      ],
      "metadata": {
        "id": "2YtI90ByVcvB"
      }
    },
    {
      "cell_type": "code",
      "source": [
        "# Array of column names\n",
        "df_columns = np.array(['pregnancies', 'glucose', 'pressure', 'skinfold', 'insulin', 'bmi', 'pedigree', 'age', 'diabetes'])\n",
        "\n",
        "# Assigning the array of column names\n",
        "df_diabetes.columns = df_columns\n",
        "\n",
        "# Display the defined columns of the df\n",
        "print('df columns: ', df_diabetes.columns)"
      ],
      "metadata": {
        "colab": {
          "base_uri": "https://localhost:8080/"
        },
        "id": "PsyIH_ULQBHN",
        "outputId": "6e6ed37a-8424-41ec-9aea-82a3c095a343"
      },
      "execution_count": null,
      "outputs": [
        {
          "output_type": "stream",
          "name": "stdout",
          "text": [
            "df columns:  Index(['pregnancies', 'glucose', 'pressure', 'skinfold', 'insulin', 'bmi',\n",
            "       'pedigree', 'age', 'diabetes'],\n",
            "      dtype='object')\n"
          ]
        }
      ]
    }
  ]
}