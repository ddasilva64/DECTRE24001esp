{
  "nbformat": 4,
  "nbformat_minor": 0,
  "metadata": {
    "colab": {
      "provenance": []
    },
    "kernelspec": {
      "name": "python3",
      "display_name": "Python 3"
    },
    "language_info": {
      "name": "python"
    }
  },
  "cells": [
    {
      "cell_type": "markdown",
      "source": [
        "### ***Data preprocessing (column format)***"
      ],
      "metadata": {
        "id": "2YtI90ByVcvB"
      }
    },
    {
      "cell_type": "code",
      "source": [
        "stat = ''\n",
        "\n",
        "# Array of column names\n",
        "df_columns = np.array(['pregnancies', 'glucose', 'pressure', 'skinfold', 'insulin', 'bmi', 'pedigree', 'age', 'diabetes'])\n",
        "\n",
        "# Assigning the array of column names\n",
        "df_diabetes.columns = df_columns\n",
        "\n",
        "# Status message\n",
        "stat = 'formatted dataset columns to:\\n'\n",
        "print(stat, df_diabetes.columns)"
      ],
      "metadata": {
        "id": "PsyIH_ULQBHN"
      },
      "execution_count": null,
      "outputs": []
    }
  ]
}