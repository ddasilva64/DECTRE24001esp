{
  "nbformat": 4,
  "nbformat_minor": 0,
  "metadata": {
    "colab": {
      "provenance": []
    },
    "kernelspec": {
      "name": "python3",
      "display_name": "Python 3"
    },
    "language_info": {
      "name": "python"
    }
  },
  "cells": [
    {
      "cell_type": "markdown",
      "source": [
        "## ***Reptresentation of key features in positive diabetes***"
      ],
      "metadata": {
        "id": "KSig-ihlHVPn"
      }
    },
    {
      "cell_type": "code",
      "source": [
        "stat = ''\n",
        "\n",
        "# Representation of key features in positive diabetes\n",
        "feature_scores_diabetes = pd.DataFrame(pd.Series(best_model_diabetes.feature_importances_, index=X_train_diabetes.columns).sort_values(ascending=False)).T\n",
        "plt.figure(figsize=(12,6))\n",
        "sns.barplot(data=feature_scores_diabetes)\n",
        "\n",
        "for index, value in enumerate(feature_scores_diabetes.values.flatten()):\n",
        "    plt.annotate(f'{value:.2f}', xy=(index, value), ha='center', va='bottom')\n",
        "\n",
        "plt.title(\"Key features in positive diabetes in Pima natives\")\n",
        "plt.show()\n",
        "pd.DataFrame(feature_scores_diabetes).T\n",
        "\n",
        "# Status message\n",
        "stat = 'Key features, done'\n",
        "print(stat)"
      ],
      "metadata": {
        "id": "eSVC8O4DxrXT"
      },
      "execution_count": null,
      "outputs": []
    }
  ]
}