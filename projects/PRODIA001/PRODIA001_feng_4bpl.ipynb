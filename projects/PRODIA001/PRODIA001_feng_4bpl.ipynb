{
  "nbformat": 4,
  "nbformat_minor": 0,
  "metadata": {
    "colab": {
      "provenance": []
    },
    "kernelspec": {
      "name": "python3",
      "display_name": "Python 3"
    },
    "language_info": {
      "name": "python"
    }
  },
  "cells": [
    {
      "cell_type": "markdown",
      "source": [
        "## ***Case 4 (bmi-diabetes)***"
      ],
      "metadata": {
        "id": "5ghxGwq1c51M"
      }
    },
    {
      "cell_type": "code",
      "source": [
        "stat = ''\n",
        "\n",
        "# Graphs of combination 04: bmi-diabetes\n",
        "\n",
        "plt.style.use(\"default\")\n",
        "plt.figure(figsize=(240,5))\n",
        "sns.barplot(x=\"bmi\", y=\"diabetes\", data=df_diabetes, color='grey')\n",
        "plt.title(\"bmi vs diabetes\",fontsize=15)\n",
        "plt.xlabel(\"bmi\")\n",
        "plt.ylabel(\"diabetes\")\n",
        "plt.show()\n",
        "\n",
        "# Status message\n",
        "stat = 'Barplot of case 4 (bmi-diabetes), done'\n",
        "print(stat)"
      ],
      "metadata": {
        "id": "pCsRXr2U3aYN"
      },
      "execution_count": null,
      "outputs": []
    }
  ]
}