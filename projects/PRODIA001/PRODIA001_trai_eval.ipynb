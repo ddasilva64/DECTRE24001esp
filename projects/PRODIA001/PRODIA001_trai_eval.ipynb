{
  "nbformat": 4,
  "nbformat_minor": 0,
  "metadata": {
    "colab": {
      "provenance": []
    },
    "kernelspec": {
      "name": "python3",
      "display_name": "Python 3"
    },
    "language_info": {
      "name": "python"
    }
  },
  "cells": [
    {
      "cell_type": "markdown",
      "source": [
        "### ***Classification model evaluation***"
      ],
      "metadata": {
        "id": "KSig-ihlHVPn"
      }
    },
    {
      "cell_type": "code",
      "source": [
        "stat = ''\n",
        "\n",
        "# Calculate the accuracy in training\n",
        "accuracy_train_diabetes = accuracy_score(y_train_diabetes,y_train_pred_diabetes)\n",
        "\n",
        "#Calculo el accuracy en Test\n",
        "accuracy_test_diabetes = accuracy_score(y_test_diabetes,y_test_pred_diabetes)\n",
        "\n",
        "if accuracy_train_diabetes-accuracy_test_diabetes >= 0.1:\n",
        "  overf = 'OVERFITTING'\n",
        "elif accuracy_test_diabetes-accuracy_train_diabetes >= 0.1:\n",
        "  overf = 'OVERFITTING'\n",
        "else:\n",
        "  overf = 'NO OVERFITTING'\n",
        "\n",
        "# Important: If we have overfitting in the model, we can reduce the number of estimators to decrease it\n",
        "\n",
        "# Status message\n",
        "stat = 'Classification model evaluation, done' + \\\n",
        "      '\\nThe accuracy in training is: ' + str(accuracy_train_diabetes) + \\\n",
        "      '\\nThe accuracy in testing  is: ' + str(accuracy_test_diabetes) + \\\n",
        "    '\\n\\n' + overf\n",
        "print(stat)"
      ],
      "metadata": {
        "id": "eSVC8O4DxrXT"
      },
      "execution_count": null,
      "outputs": []
    }
  ]
}