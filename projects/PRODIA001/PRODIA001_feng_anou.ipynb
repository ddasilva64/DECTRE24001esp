{
  "nbformat": 4,
  "nbformat_minor": 0,
  "metadata": {
    "colab": {
      "provenance": []
    },
    "kernelspec": {
      "name": "python3",
      "display_name": "Python 3"
    },
    "language_info": {
      "name": "python"
    }
  },
  "cells": [
    {
      "cell_type": "markdown",
      "source": [
        "### ***Feature Engineering (get average without outliers)***"
      ],
      "metadata": {
        "id": "5ghxGwq1c51M"
      }
    },
    {
      "cell_type": "code",
      "source": [
        "stat = ''\n",
        "\n",
        "# Get average without outliers\n",
        "df_emb  = funcGetPromNoOutliers(df_diabetes['pregnancies'],    0)\n",
        "df_glu  = funcGetPromNoOutliers(df_diabetes['glucose'],      1)\n",
        "df_pre  = funcGetPromNoOutliers(df_diabetes['pressure'],      1)\n",
        "df_imc  = funcGetPromNoOutliers(df_diabetes['bmi'],          1)\n",
        "df_ant  = funcGetPromNoOutliers(df_diabetes['pedigree'], 0)\n",
        "\n",
        "df_promedio = {\n",
        "'non-outlier value':  [df_emb[0], df_glu[0], df_pre[0], df_imc[0], df_ant[0]],\n",
        "'non-outlier number': [df_emb[1], df_glu[1], df_pre[1], df_imc[1], df_ant[1]],\n",
        "'non-outlier mean':   [df_emb[2], df_glu[2], df_pre[2], df_imc[2], df_ant[2]]\n",
        "              }\n",
        "\n",
        "indexes = ['pregnancies', 'glucose', 'pressure', 'bmi', 'pedigree']\n",
        "columns = ['non-outlier value', 'non-outlier number', 'non-outlier mean']\n",
        "\n",
        "df_promedio = pd.DataFrame(data=df_promedio, index=indexes, columns=columns, dtype=str)\n",
        "df_promedio = df_promedio.transpose()\n",
        "\n",
        "# Status message\n",
        "stat = 'To check the result, go to df_promedio dataframe, please'\n",
        "print(stat)"
      ],
      "metadata": {
        "id": "pCsRXr2U3aYN"
      },
      "execution_count": null,
      "outputs": []
    }
  ]
}