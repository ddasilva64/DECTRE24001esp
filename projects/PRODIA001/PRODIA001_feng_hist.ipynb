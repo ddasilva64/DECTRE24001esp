{
  "nbformat": 4,
  "nbformat_minor": 0,
  "metadata": {
    "colab": {
      "provenance": []
    },
    "kernelspec": {
      "name": "python3",
      "display_name": "Python 3"
    },
    "language_info": {
      "name": "python"
    }
  },
  "cells": [
    {
      "cell_type": "markdown",
      "source": [
        "### ***Graphical analysis (histogram) of individual variables, after outlier treatment***"
      ],
      "metadata": {
        "id": "5ghxGwq1c51M"
      }
    },
    {
      "cell_type": "code",
      "source": [
        "stat = ''\n",
        "\n",
        "plt.figure(figsize=(14,10))\n",
        "sns.set_style(style='whitegrid')\n",
        "plt.subplot(2,3,1)\n",
        "sns.histplot(x = df_diabetes['pregnancies'], kde = True,\n",
        "                 line_kws = {'linestyle':'dashed', 'linewidth':'1'}).lines[0].set_color('black')\n",
        "plt.subplot(2,3,2)\n",
        "sns.histplot(x = df_diabetes['glucose'], kde = True,\n",
        "                 line_kws = {'linestyle':'dashed', 'linewidth':'1'}).lines[0].set_color('black')\n",
        "plt.subplot(2,3,3)\n",
        "sns.histplot(x = df_diabetes['pressure'], kde = True,\n",
        "                 line_kws = {'linestyle':'dashed', 'linewidth':'1'}).lines[0].set_color('black')\n",
        "plt.subplot(2,3,4)\n",
        "sns.histplot(x = df_diabetes['bmi'], kde = True,\n",
        "                 line_kws = {'linestyle':'dashed', 'linewidth':'1'}).lines[0].set_color('black')\n",
        "plt.subplot(2,3,5)\n",
        "sns.histplot(x = df_diabetes['pedigree'], kde = True,\n",
        "                 line_kws = {'linestyle':'dashed', 'linewidth':'1'}).lines[0].set_color('black')\n",
        "plt.subplot(2,3,6)\n",
        "sns.histplot(x = df_diabetes['age'], kde = True,\n",
        "                 line_kws = {'linestyle':'dashed', 'linewidth':'1'}).lines[0].set_color('black')\n",
        "\n",
        "# Status message\n",
        "stat = 'Histogram of individual characteristics, done'\n",
        "print(stat)"
      ],
      "metadata": {
        "id": "pCsRXr2U3aYN"
      },
      "execution_count": null,
      "outputs": []
    }
  ]
}