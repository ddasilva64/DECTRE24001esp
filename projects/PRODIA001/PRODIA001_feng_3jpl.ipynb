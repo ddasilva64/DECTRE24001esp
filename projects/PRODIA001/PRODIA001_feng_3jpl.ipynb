{
  "nbformat": 4,
  "nbformat_minor": 0,
  "metadata": {
    "colab": {
      "provenance": []
    },
    "kernelspec": {
      "name": "python3",
      "display_name": "Python 3"
    },
    "language_info": {
      "name": "python"
    }
  },
  "cells": [
    {
      "cell_type": "markdown",
      "source": [
        "## ***Case 3 (pressure-diabetes)***"
      ],
      "metadata": {
        "id": "5ghxGwq1c51M"
      }
    },
    {
      "cell_type": "code",
      "source": [
        "stat = ''\n",
        "\n",
        "# Graphs of combination 03: pressure-diabetes\n",
        "\n",
        "ag = sns.jointplot(data = df_diabetes,\n",
        "              x = 'pressure',\n",
        "              y = 'diabetes',\n",
        "              kind = 'reg',\n",
        "              color = 'grey',\n",
        "              marker=\"+\")\n",
        "\n",
        "ag.plot_joint(sns.kdeplot,\n",
        "              color=\"black\",\n",
        "              zorder=0,\n",
        "              levels=6)\n",
        "\n",
        "\n",
        "bg = sns.JointGrid(data=df_diabetes, x=\"pressure\", y=\"diabetes\")\n",
        "bg.plot(sns.regplot, sns.boxplot,color = 'grey')\n",
        "\n",
        "# Status message\n",
        "stat = 'Jointplot of case 3 (pressure-diabetes), done'\n",
        "print(stat)"
      ],
      "metadata": {
        "id": "pCsRXr2U3aYN"
      },
      "execution_count": null,
      "outputs": []
    }
  ]
}