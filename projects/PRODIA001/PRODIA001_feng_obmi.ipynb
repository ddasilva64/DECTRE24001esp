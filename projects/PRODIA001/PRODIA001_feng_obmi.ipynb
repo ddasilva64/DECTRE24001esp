{
  "nbformat": 4,
  "nbformat_minor": 0,
  "metadata": {
    "colab": {
      "provenance": []
    },
    "kernelspec": {
      "name": "python3",
      "display_name": "Python 3"
    },
    "language_info": {
      "name": "python"
    }
  },
  "cells": [
    {
      "cell_type": "markdown",
      "source": [
        "### ***Individual variable analysis (Obesity - BMI -after imputation of outliers-)***"
      ],
      "metadata": {
        "id": "5ghxGwq1c51M"
      }
    },
    {
      "cell_type": "code",
      "source": [
        "stat = ''\n",
        "\n",
        "# Obesity - BMI\n",
        "prom_imc = funcPromedio(df_diabetes['bmi'])\n",
        "vimc_pro = funcObesidadImc(prom_imc)\n",
        "\n",
        "medi_imc = funcMediana(df_diabetes['bmi'])\n",
        "vimc_med = funcObesidadImc(medi_imc)\n",
        "\n",
        "moda_imc = funcModa(df_diabetes['bmi'])\n",
        "vimc_mod = funcObesidadImc(moda_imc)\n",
        "\n",
        "rang_imc = funcRango(df_diabetes['bmi'])\n",
        "vimc_ran = funcObesidadImc(rang_imc)\n",
        "\n",
        "linf_imc = funcLimInfOutliers(df_diabetes['bmi'])\n",
        "vimc_lin = funcObesidadImc(linf_imc)\n",
        "\n",
        "lsup_imc = funcLimSupOutliers(df_diabetes['bmi'])\n",
        "vimc_lsu = funcObesidadImc(lsup_imc)\n",
        "\n",
        "mini_imc = funcMin(df_diabetes['bmi'])\n",
        "vimc_min = funcObesidadImc(mini_imc)\n",
        "\n",
        "maxi_imc = funcMax(df_diabetes['bmi'])\n",
        "vimc_max = funcObesidadImc(maxi_imc)\n",
        "\n",
        "df_estadistImc = {\n",
        "'mean BMI': [prom_imc],\n",
        "'mean BMI rating': [vimc_pro],\n",
        "'median BMI': [medi_imc],\n",
        "'median BMI rating': [vimc_med],\n",
        "'mode BMI': [moda_imc],\n",
        "'mode BMI rating': [vimc_mod],\n",
        "'range BMI': [rang_imc],\n",
        "'range BMI rating': [vimc_ran],\n",
        "'lower limit outliers BMI': [linf_imc],\n",
        "'lower limit outliers BMI rating': [vimc_lin],\n",
        "'upper limit outliers BMI': [lsup_imc],\n",
        "'upper limit outliers BMI rating': [vimc_lsu],\n",
        "'minimum BMI': [mini_imc],\n",
        "'minimum BMI rating': [vimc_min],\n",
        "'maximum BMI': [maxi_imc],\n",
        "'maximum BMI rating': [vimc_max]\n",
        "}\n",
        "\n",
        "indexes = ['bmi']\n",
        "columns = ['mean BMI', 'mean BMI rating', 'median BMI', 'median BMI rating',\n",
        "           'mode BMI', 'mode BMI rating', 'range BMI', 'range BMI range',\n",
        "           'lower limit outliers BMI', 'lower limit outliers BMI rating',\n",
        "           'upper limit outliers BMI', 'upper limit outliers BMI rating',\n",
        "           'minimum BMI', 'minimum BMI rating', 'maximum BMI', 'maximum BMI rating']\n",
        "\n",
        "df_data_estadistImc = pd.DataFrame(data=df_estadistImc, index=indexes, columns=columns, dtype=str)\n",
        "df_data_estadistImc = df_data_estadistImc.transpose()\n",
        "\n",
        "# Status message\n",
        "stat = 'To check the result, go to df_data_estadistImc dataframe, please'\n",
        "print(stat)"
      ],
      "metadata": {
        "id": "GN0F_RFi5EgC"
      },
      "execution_count": null,
      "outputs": []
    }
  ]
}