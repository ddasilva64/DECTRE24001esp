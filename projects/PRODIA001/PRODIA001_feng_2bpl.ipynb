{
  "nbformat": 4,
  "nbformat_minor": 0,
  "metadata": {
    "colab": {
      "provenance": []
    },
    "kernelspec": {
      "name": "python3",
      "display_name": "Python 3"
    },
    "language_info": {
      "name": "python"
    }
  },
  "cells": [
    {
      "cell_type": "markdown",
      "source": [
        "## ***Case 2 (glucose-diabetes)***"
      ],
      "metadata": {
        "id": "5ghxGwq1c51M"
      }
    },
    {
      "cell_type": "code",
      "source": [
        "stat = ''\n",
        "\n",
        "# Graphs of combination 02: glucose-diabetes\n",
        "\n",
        "plt.style.use(\"default\")\n",
        "plt.figure(figsize=(120,5))\n",
        "sns.barplot(x=\"glucose\", y=\"diabetes\", data=df_diabetes, color='grey')\n",
        "plt.title(\"glucose vs diabetes\",fontsize=15)\n",
        "plt.xlabel(\"glucose\")\n",
        "plt.ylabel(\"diabetes\")\n",
        "plt.show()\n",
        "\n",
        "# Status message\n",
        "stat = 'Barplot of case 2 (glucose-diabetes), done'\n",
        "print(stat)"
      ],
      "metadata": {
        "id": "pCsRXr2U3aYN"
      },
      "execution_count": null,
      "outputs": []
    }
  ]
}