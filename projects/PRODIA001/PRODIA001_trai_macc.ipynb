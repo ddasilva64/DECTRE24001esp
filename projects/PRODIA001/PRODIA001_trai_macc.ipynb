{
  "nbformat": 4,
  "nbformat_minor": 0,
  "metadata": {
    "colab": {
      "provenance": []
    },
    "kernelspec": {
      "name": "python3",
      "display_name": "Python 3"
    },
    "language_info": {
      "name": "python"
    }
  },
  "cells": [
    {
      "cell_type": "markdown",
      "source": [
        "## ***Model accuracy***"
      ],
      "metadata": {
        "id": "KSig-ihlHVPn"
      }
    },
    {
      "cell_type": "code",
      "source": [
        "stat = ''\n",
        "\n",
        "# Model accuracy\n",
        "y_train_pred_diabetes   = best_model_diabetes.predict(X_train_diabetes)\n",
        "y_test_pred_diabetes    = best_model_diabetes.predict(X_test_diabetes)\n",
        "\n",
        "accuracy_train_diabetes = accuracy_score(y_train_diabetes,y_train_pred_diabetes)\n",
        "accuracy_test_diabetes  = accuracy_score(y_test_diabetes,y_test_pred_diabetes)\n",
        "\n",
        "stat = 'Training accuracy : ' + str(float(accuracy_train_diabetes)) + \\\n",
        "     '\\nTest     accuracy : ' + str(float(accuracy_test_diabetes))\n",
        "\n",
        "# Status message\n",
        "print(stat)"
      ],
      "metadata": {
        "id": "eSVC8O4DxrXT"
      },
      "execution_count": null,
      "outputs": []
    }
  ]
}