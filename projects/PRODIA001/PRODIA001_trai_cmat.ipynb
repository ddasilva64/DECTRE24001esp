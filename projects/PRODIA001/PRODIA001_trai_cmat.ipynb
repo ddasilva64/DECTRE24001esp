{
  "nbformat": 4,
  "nbformat_minor": 0,
  "metadata": {
    "colab": {
      "provenance": []
    },
    "kernelspec": {
      "name": "python3",
      "display_name": "Python 3"
    },
    "language_info": {
      "name": "python"
    }
  },
  "cells": [
    {
      "cell_type": "markdown",
      "source": [
        "## ***Confusion matrix***"
      ],
      "metadata": {
        "id": "KSig-ihlHVPn"
      }
    },
    {
      "cell_type": "code",
      "source": [
        "stat = ''\n",
        "\n",
        "# Create the confusion matrix\n",
        "cm = metrics.confusion_matrix(y_test_diabetes, y_test_pred_diabetes)\n",
        "\n",
        "# Create the display the confusion matrix\n",
        "cm_display = metrics.ConfusionMatrixDisplay(confusion_matrix = cm, display_labels = [False, True])\n",
        "\n",
        "# Show confusion matrix\n",
        "cm_display.plot()\n",
        "plt.show()\n",
        "\n",
        "# Status message\n",
        "stat = 'Confusion matrix, done'\n",
        "print(stat)"
      ],
      "metadata": {
        "id": "eSVC8O4DxrXT"
      },
      "execution_count": null,
      "outputs": []
    }
  ]
}