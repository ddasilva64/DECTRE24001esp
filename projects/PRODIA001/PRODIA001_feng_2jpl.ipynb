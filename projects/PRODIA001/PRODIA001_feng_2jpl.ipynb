{
  "nbformat": 4,
  "nbformat_minor": 0,
  "metadata": {
    "colab": {
      "provenance": []
    },
    "kernelspec": {
      "name": "python3",
      "display_name": "Python 3"
    },
    "language_info": {
      "name": "python"
    }
  },
  "cells": [
    {
      "cell_type": "markdown",
      "source": [
        "## ***Case 2 (glucose-diabetes)***"
      ],
      "metadata": {
        "id": "5ghxGwq1c51M"
      }
    },
    {
      "cell_type": "code",
      "source": [
        "stat = ''\n",
        "\n",
        "# Graphs of combination 02: glucose-diabetes\n",
        "\n",
        "ag = sns.jointplot(data = df_diabetes,\n",
        "              x = 'glucose',\n",
        "              y = 'diabetes',\n",
        "              kind = 'reg',\n",
        "              color = 'grey',\n",
        "              marker=\"+\")\n",
        "\n",
        "ag.plot_joint(sns.kdeplot,\n",
        "              color=\"black\",\n",
        "              zorder=0,\n",
        "              levels=6)\n",
        "\n",
        "\n",
        "bg = sns.JointGrid(data=df_diabetes, x=\"glucose\", y=\"diabetes\")\n",
        "bg.plot(sns.regplot, sns.boxplot,color = 'grey')\n",
        "\n",
        "# Status message\n",
        "stat = 'Jointplot of case 2 (glucose-diabetes), done'\n",
        "print(stat)"
      ],
      "metadata": {
        "id": "pCsRXr2U3aYN"
      },
      "execution_count": null,
      "outputs": []
    }
  ]
}