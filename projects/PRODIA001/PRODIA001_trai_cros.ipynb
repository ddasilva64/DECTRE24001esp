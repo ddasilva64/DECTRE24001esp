{
  "nbformat": 4,
  "nbformat_minor": 0,
  "metadata": {
    "colab": {
      "provenance": []
    },
    "kernelspec": {
      "name": "python3",
      "display_name": "Python 3"
    },
    "language_info": {
      "name": "python"
    }
  },
  "cells": [
    {
      "cell_type": "markdown",
      "source": [
        "### ***Training (cross-validation -80/20-)***"
      ],
      "metadata": {
        "id": "KSig-ihlHVPn"
      }
    },
    {
      "cell_type": "code",
      "source": [
        "stat = ''\n",
        "\n",
        "# 80% for training and 20% for testing\n",
        "X_train_diabetes, X_test_diabetes, y_train_diabetes, y_test_diabetes = train_test_split(X_diabetes,y_diabetes, test_size=.20, random_state=42)\n",
        "\n",
        "stat = 'X_train_diabetes.shape : ' + str(X_train_diabetes.shape) + \\\n",
        "       '\\ny_train_diabetes.shape : ' + str(y_train_diabetes.shape) + \\\n",
        "       '\\n\\n500+268=768; 768*0.8=614' + \\\n",
        "       '\\nfeatures = 6 => shape = (614,6)' + \\\n",
        "       '\\ntarget variable = 1 => shape = (614,)' + \\\n",
        "       '\\n\\ntraining rows        : ' + str(len(X_train_diabetes)) + \\\n",
        "       '\\ntest rows            : ' + str(len(X_test_diabetes))\n",
        "\n",
        "# Status message\n",
        "print(stat)"
      ],
      "metadata": {
        "id": "eSVC8O4DxrXT"
      },
      "execution_count": null,
      "outputs": []
    }
  ]
}