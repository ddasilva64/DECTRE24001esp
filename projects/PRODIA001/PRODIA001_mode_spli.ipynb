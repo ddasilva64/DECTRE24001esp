{
  "nbformat": 4,
  "nbformat_minor": 0,
  "metadata": {
    "colab": {
      "provenance": []
    },
    "kernelspec": {
      "name": "python3",
      "display_name": "Python 3"
    },
    "language_info": {
      "name": "python"
    }
  },
  "cells": [
    {
      "cell_type": "markdown",
      "source": [
        "### ***Modeling (data splitting)***"
      ],
      "metadata": {
        "id": "KSig-ihlHVPn"
      }
    },
    {
      "cell_type": "code",
      "source": [
        "stat = ''\n",
        "\n",
        "# Splitting data into X and y (predictor variables & target)\n",
        "\n",
        "X_diabetes = df_diabetes.drop('diabetes',axis=1)    # X_diabetes = model features\n",
        "y_diabetes = df_diabetes.diabetes                   # y_diabetes = label\n",
        "\n",
        "# Status message\n",
        "stat = 'To check the result, go to X_diabetes & y_diabetes dataframes, please'\n",
        "print(stat)"
      ],
      "metadata": {
        "id": "eSVC8O4DxrXT"
      },
      "execution_count": null,
      "outputs": []
    }
  ]
}